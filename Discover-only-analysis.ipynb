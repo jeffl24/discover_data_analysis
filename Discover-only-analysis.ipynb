{
 "cells": [
  {
   "cell_type": "markdown",
   "metadata": {},
   "source": [
    "# Part 1 - Obtaining and formatting Discover Data"
   ]
  },
  {
   "cell_type": "code",
   "execution_count": 1,
   "metadata": {
    "collapsed": true
   },
   "outputs": [],
   "source": [
    "import numpy as np\n",
    "import pandas as pd\n",
    "import ast\n",
    "import matplotlib.pyplot as plt\n",
    "%matplotlib inline\n",
    "pd.set_option(\"display.max_columns\", 100)"
   ]
  },
  {
   "cell_type": "code",
   "execution_count": 2,
   "metadata": {
    "scrolled": true
   },
   "outputs": [
    {
     "data": {
      "text/html": [
       "<div>\n",
       "<style>\n",
       "    .dataframe thead tr:only-child th {\n",
       "        text-align: right;\n",
       "    }\n",
       "\n",
       "    .dataframe thead th {\n",
       "        text-align: left;\n",
       "    }\n",
       "\n",
       "    .dataframe tbody tr th {\n",
       "        vertical-align: top;\n",
       "    }\n",
       "</style>\n",
       "<table border=\"1\" class=\"dataframe\">\n",
       "  <thead>\n",
       "    <tr style=\"text-align: right;\">\n",
       "      <th></th>\n",
       "      <th>Serial</th>\n",
       "      <th>Name</th>\n",
       "      <th>SKU</th>\n",
       "      <th>auto_include</th>\n",
       "      <th>concerns_addressed</th>\n",
       "      <th>concerns_addressed_count</th>\n",
       "      <th>email</th>\n",
       "      <th>handle</th>\n",
       "      <th>match</th>\n",
       "      <th>min_req</th>\n",
       "      <th>rating</th>\n",
       "      <th>request.ageRange</th>\n",
       "      <th>request.concerns</th>\n",
       "      <th>request.gender</th>\n",
       "      <th>request.name</th>\n",
       "      <th>request.sensitivity</th>\n",
       "      <th>request.skinType</th>\n",
       "      <th>reviews</th>\n",
       "      <th>timestamp</th>\n",
       "      <th>type</th>\n",
       "    </tr>\n",
       "  </thead>\n",
       "  <tbody>\n",
       "    <tr>\n",
       "      <th>0</th>\n",
       "      <td>0</td>\n",
       "      <td>Earth Sourced Gentle Cleansing Gel</td>\n",
       "      <td>8500</td>\n",
       "      <td>NaN</td>\n",
       "      <td>[Sensitivity]</td>\n",
       "      <td>1</td>\n",
       "      <td>yaminnphyu@mail.com</td>\n",
       "      <td>earth-sourced-perfectly-natural-cleansing-gel</td>\n",
       "      <td>[Sensitivity]</td>\n",
       "      <td>['Sensitivity']</td>\n",
       "      <td>95</td>\n",
       "      <td>30.0</td>\n",
       "      <td>[Enlarged Pores, Acne, Sun Damage, Redness, Du...</td>\n",
       "      <td>2</td>\n",
       "      <td>Yaminn Phyu</td>\n",
       "      <td>True</td>\n",
       "      <td>Oily</td>\n",
       "      <td>[None, 15, 12, 11, 31, 96]</td>\n",
       "      <td>2017-09-10 03:27:26</td>\n",
       "      <td>Cleanser</td>\n",
       "    </tr>\n",
       "    <tr>\n",
       "      <th>1</th>\n",
       "      <td>1</td>\n",
       "      <td>Earth Sourced Purely Natural Refreshing Toner</td>\n",
       "      <td>8510</td>\n",
       "      <td>NaN</td>\n",
       "      <td>[Dehydration, Sensitivity]</td>\n",
       "      <td>1</td>\n",
       "      <td>yaminnphyu@mail.com</td>\n",
       "      <td>earth-sourced-purely-natural-refreshing-toner</td>\n",
       "      <td>[Sensitivity]</td>\n",
       "      <td>['Sensitivity']</td>\n",
       "      <td>83</td>\n",
       "      <td>30.0</td>\n",
       "      <td>[Enlarged Pores, Acne, Sun Damage, Redness, Du...</td>\n",
       "      <td>2</td>\n",
       "      <td>Yaminn Phyu</td>\n",
       "      <td>True</td>\n",
       "      <td>Oily</td>\n",
       "      <td>[None, 9, 5, 7, 22, 76]</td>\n",
       "      <td>2017-09-10 03:27:26</td>\n",
       "      <td>Toner</td>\n",
       "    </tr>\n",
       "    <tr>\n",
       "      <th>2</th>\n",
       "      <td>2</td>\n",
       "      <td>Clear Regular Strength Anti-Redness Exfoliatin...</td>\n",
       "      <td>6200</td>\n",
       "      <td>NaN</td>\n",
       "      <td>[Clogged Pores, Uneven Texture, Enlarged Pores...</td>\n",
       "      <td>5</td>\n",
       "      <td>yaminnphyu@mail.com</td>\n",
       "      <td>clear-regular-strength-anti-redness-exfoliatin...</td>\n",
       "      <td>[Enlarged Pores, PIH, Redness, Sensitivity, Acne]</td>\n",
       "      <td>['Acne']</td>\n",
       "      <td>85</td>\n",
       "      <td>30.0</td>\n",
       "      <td>[Enlarged Pores, Acne, Sun Damage, Redness, Du...</td>\n",
       "      <td>2</td>\n",
       "      <td>Yaminn Phyu</td>\n",
       "      <td>True</td>\n",
       "      <td>Oily</td>\n",
       "      <td>[None, 16, 20, 23, 47, 214]</td>\n",
       "      <td>2017-09-10 03:27:26</td>\n",
       "      <td>Exfoliant</td>\n",
       "    </tr>\n",
       "    <tr>\n",
       "      <th>3</th>\n",
       "      <td>3</td>\n",
       "      <td>Resist Ultra-Light Super Antioxidant Concentra...</td>\n",
       "      <td>7740</td>\n",
       "      <td>NaN</td>\n",
       "      <td>[Dullness, Wrinkles, PIH, Enlarged Pores, Unev...</td>\n",
       "      <td>8</td>\n",
       "      <td>yaminnphyu@mail.com</td>\n",
       "      <td>resist-ultra-light-super-antioxidant-concentra...</td>\n",
       "      <td>[Dullness, PIH, Enlarged Pores, Oily, Dullness...</td>\n",
       "      <td>['Dehydration', 'Clogged Pores', 'Enlarged Por...</td>\n",
       "      <td>79</td>\n",
       "      <td>30.0</td>\n",
       "      <td>[Enlarged Pores, Acne, Sun Damage, Redness, Du...</td>\n",
       "      <td>2</td>\n",
       "      <td>Yaminn Phyu</td>\n",
       "      <td>True</td>\n",
       "      <td>Oily</td>\n",
       "      <td>[None, 20, 27, 23, 37, 248]</td>\n",
       "      <td>2017-09-10 03:27:26</td>\n",
       "      <td>Serum</td>\n",
       "    </tr>\n",
       "    <tr>\n",
       "      <th>4</th>\n",
       "      <td>4</td>\n",
       "      <td>Resist C15 Super Booster</td>\n",
       "      <td>7770</td>\n",
       "      <td>NaN</td>\n",
       "      <td>[Dehydration, PIH, Redness, Uneven Texture, Wr...</td>\n",
       "      <td>4</td>\n",
       "      <td>yaminnphyu@mail.com</td>\n",
       "      <td>resist-c15-super-booster</td>\n",
       "      <td>[PIH, Redness, Dullness, Sun Damage]</td>\n",
       "      <td>['None']</td>\n",
       "      <td>74</td>\n",
       "      <td>30.0</td>\n",
       "      <td>[Enlarged Pores, Acne, Sun Damage, Redness, Du...</td>\n",
       "      <td>2</td>\n",
       "      <td>Yaminn Phyu</td>\n",
       "      <td>True</td>\n",
       "      <td>Oily</td>\n",
       "      <td>[None, 53, 60, 65, 84, 427]</td>\n",
       "      <td>2017-09-10 03:27:26</td>\n",
       "      <td>Booster</td>\n",
       "    </tr>\n",
       "  </tbody>\n",
       "</table>\n",
       "</div>"
      ],
      "text/plain": [
       "   Serial                                               Name   SKU  \\\n",
       "0       0                 Earth Sourced Gentle Cleansing Gel  8500   \n",
       "1       1      Earth Sourced Purely Natural Refreshing Toner  8510   \n",
       "2       2  Clear Regular Strength Anti-Redness Exfoliatin...  6200   \n",
       "3       3  Resist Ultra-Light Super Antioxidant Concentra...  7740   \n",
       "4       4                           Resist C15 Super Booster  7770   \n",
       "\n",
       "  auto_include                                 concerns_addressed  \\\n",
       "0          NaN                                      [Sensitivity]   \n",
       "1          NaN                         [Dehydration, Sensitivity]   \n",
       "2          NaN  [Clogged Pores, Uneven Texture, Enlarged Pores...   \n",
       "3          NaN  [Dullness, Wrinkles, PIH, Enlarged Pores, Unev...   \n",
       "4          NaN  [Dehydration, PIH, Redness, Uneven Texture, Wr...   \n",
       "\n",
       "   concerns_addressed_count                email  \\\n",
       "0                         1  yaminnphyu@mail.com   \n",
       "1                         1  yaminnphyu@mail.com   \n",
       "2                         5  yaminnphyu@mail.com   \n",
       "3                         8  yaminnphyu@mail.com   \n",
       "4                         4  yaminnphyu@mail.com   \n",
       "\n",
       "                                              handle  \\\n",
       "0      earth-sourced-perfectly-natural-cleansing-gel   \n",
       "1      earth-sourced-purely-natural-refreshing-toner   \n",
       "2  clear-regular-strength-anti-redness-exfoliatin...   \n",
       "3  resist-ultra-light-super-antioxidant-concentra...   \n",
       "4                           resist-c15-super-booster   \n",
       "\n",
       "                                               match  \\\n",
       "0                                      [Sensitivity]   \n",
       "1                                      [Sensitivity]   \n",
       "2  [Enlarged Pores, PIH, Redness, Sensitivity, Acne]   \n",
       "3  [Dullness, PIH, Enlarged Pores, Oily, Dullness...   \n",
       "4               [PIH, Redness, Dullness, Sun Damage]   \n",
       "\n",
       "                                             min_req  rating  \\\n",
       "0                                    ['Sensitivity']      95   \n",
       "1                                    ['Sensitivity']      83   \n",
       "2                                           ['Acne']      85   \n",
       "3  ['Dehydration', 'Clogged Pores', 'Enlarged Por...      79   \n",
       "4                                           ['None']      74   \n",
       "\n",
       "   request.ageRange                                   request.concerns  \\\n",
       "0              30.0  [Enlarged Pores, Acne, Sun Damage, Redness, Du...   \n",
       "1              30.0  [Enlarged Pores, Acne, Sun Damage, Redness, Du...   \n",
       "2              30.0  [Enlarged Pores, Acne, Sun Damage, Redness, Du...   \n",
       "3              30.0  [Enlarged Pores, Acne, Sun Damage, Redness, Du...   \n",
       "4              30.0  [Enlarged Pores, Acne, Sun Damage, Redness, Du...   \n",
       "\n",
       "   request.gender  request.name  request.sensitivity request.skinType  \\\n",
       "0               2  Yaminn Phyu                  True             Oily   \n",
       "1               2  Yaminn Phyu                  True             Oily   \n",
       "2               2  Yaminn Phyu                  True             Oily   \n",
       "3               2  Yaminn Phyu                  True             Oily   \n",
       "4               2  Yaminn Phyu                  True             Oily   \n",
       "\n",
       "                       reviews           timestamp       type  \n",
       "0   [None, 15, 12, 11, 31, 96] 2017-09-10 03:27:26   Cleanser  \n",
       "1      [None, 9, 5, 7, 22, 76] 2017-09-10 03:27:26      Toner  \n",
       "2  [None, 16, 20, 23, 47, 214] 2017-09-10 03:27:26  Exfoliant  \n",
       "3  [None, 20, 27, 23, 37, 248] 2017-09-10 03:27:26      Serum  \n",
       "4  [None, 53, 60, 65, 84, 427] 2017-09-10 03:27:26    Booster  "
      ]
     },
     "execution_count": 2,
     "metadata": {},
     "output_type": "execute_result"
    }
   ],
   "source": [
    "# import discover data, and filter for list of emails according to their earliest use of discover\n",
    "discover_data = pd.read_csv(\"discover_print_to_csv.csv\")\n",
    "discover_data['timestamp'] = discover_data['timestamp'].map(pd.to_datetime)\n",
    "\n",
    "# In request.concerns column, both sensitive skin status and skin types are appended together with user's concerns.\n",
    "# Need to use pandas apply to remove those entries\n",
    "\n",
    "# However, we need to first convert each element in the request.concerns from \"strings (of list)\" to \"list\" type \n",
    "\n",
    "# In order to do that, we need to fill blank entries with an empty list in order for the function ast.literal_eval() \n",
    "# to be passed through successfully\n",
    "\n",
    "columns_to_convert_list = ['concerns_addressed','match','request.concerns','reviews']\n",
    "\n",
    "for column in columns_to_convert_list:\n",
    "    \n",
    "    discover_data[column] = discover_data[column].fillna(\"[]\").map(lambda x: ast.literal_eval(x))\n",
    "\n",
    "def remove_skin_types(x):\n",
    "    terms_to_delete = ['Sensitivity', 'Combination','Dry to Very Dry', 'Normal', 'Oily']\n",
    "    replacement_list = []\n",
    "    for entry in x:\n",
    "        if entry in terms_to_delete:\n",
    "            del entry\n",
    "        else:\n",
    "            replacement_list.append(entry)\n",
    "    return replacement_list\n",
    "discover_data['request.concerns'] = discover_data['request.concerns'].map(remove_skin_types)\n",
    "\n",
    "# remove\n",
    "\n",
    "# print(type(discover_data['timestamp'][0]))\n",
    "# discover_data.to_csv('firebase_discover_formatted.csv')\n",
    "# discover_data['request.gender'].value_counts()\n",
    "discover_data.head()"
   ]
  },
  {
   "cell_type": "markdown",
   "metadata": {},
   "source": [
    "## Explore basic characteristics of Discover data"
   ]
  },
  {
   "cell_type": "code",
   "execution_count": 5,
   "metadata": {
    "scrolled": true
   },
   "outputs": [
    {
     "data": {
      "text/plain": [
       "2    35518\n",
       "1     4990\n",
       "0     1963\n",
       "Name: request.gender, dtype: int64"
      ]
     },
     "execution_count": 5,
     "metadata": {},
     "output_type": "execute_result"
    }
   ],
   "source": [
    "discover_data['request.gender'].value_counts()"
   ]
  },
  {
   "cell_type": "code",
   "execution_count": 12,
   "metadata": {},
   "outputs": [
    {
     "name": "stdout",
     "output_type": "stream",
     "text": [
      "total_submissions_count: 3435\n",
      "retakers_count: timestamp    486\n",
      "dtype: int64\n",
      "Percentage of retakers: 0.141%\n"
     ]
    }
   ],
   "source": [
    "# examine number of people who retake the test\n",
    "\n",
    "email_timestamp_unique = discover_data[['email', 'timestamp']].drop_duplicates(keep='last')\n",
    "email_timestamp_unique\n",
    "\n",
    "test_take_pivot_count = pd.pivot_table(email_timestamp_unique, index= 'email', aggfunc='count')\n",
    "count_total_submissions = len(email_timestamp_unique)\n",
    "print('total_submissions_count:', count_total_submissions)\n",
    "retakers_count = test_take_pivot_count[test_take_pivot_count['timestamp'] >1 ].count()\n",
    "print('retakers_count:', retakers_count)\n",
    "print('Percentage of retakers: {0:.3f}%'.format(float(retakers_count/count_total_submissions)))"
   ]
  },
  {
   "cell_type": "code",
   "execution_count": 10,
   "metadata": {},
   "outputs": [
    {
     "data": {
      "text/plain": [
       "timestamp    3432\n",
       "dtype: int64"
      ]
     },
     "execution_count": 10,
     "metadata": {},
     "output_type": "execute_result"
    }
   ],
   "source": [
    "discover_data[['timestamp']].drop_duplicates(keep='last').count()"
   ]
  },
  {
   "cell_type": "code",
   "execution_count": 14,
   "metadata": {},
   "outputs": [
    {
     "name": "stdout",
     "output_type": "stream",
     "text": [
      "male_email_count: 297\n",
      "female_email_count: 2163\n",
      "male_percentage: 0.12%\n",
      "female_percentage: 0.88%\n"
     ]
    }
   ],
   "source": [
    "# Male Female Breakdown\n",
    "email_gender_unique = discover_data[['email', 'request.gender']].drop_duplicates(keep='last')\n",
    "male_email_count = len(email_gender_unique[email_gender_unique['request.gender'] == 1])\n",
    "print('male_email_count:', male_email_count)\n",
    "female_email_count = len(email_gender_unique[email_gender_unique['request.gender'] == 2])\n",
    "print('female_email_count:', female_email_count)\n",
    "female_percentage = female_email_count/(male_email_count + female_email_count)\n",
    "print('male_percentage: {0:.2f}%'.format(1-female_percentage))\n",
    "print('female_percentage: {0:.2f}%'.format(female_percentage))"
   ]
  },
  {
   "cell_type": "code",
   "execution_count": 12,
   "metadata": {},
   "outputs": [
    {
     "data": {
      "text/plain": [
       "134"
      ]
     },
     "execution_count": 12,
     "metadata": {},
     "output_type": "execute_result"
    }
   ],
   "source": [
    "len(email_gender_unique[email_gender_unique['request.gender'] == 0])"
   ]
  },
  {
   "cell_type": "code",
   "execution_count": 13,
   "metadata": {},
   "outputs": [
    {
     "data": {
      "text/html": [
       "<div>\n",
       "<style>\n",
       "    .dataframe thead tr:only-child th {\n",
       "        text-align: right;\n",
       "    }\n",
       "\n",
       "    .dataframe thead th {\n",
       "        text-align: left;\n",
       "    }\n",
       "\n",
       "    .dataframe tbody tr th {\n",
       "        vertical-align: top;\n",
       "    }\n",
       "</style>\n",
       "<table border=\"1\" class=\"dataframe\">\n",
       "  <thead>\n",
       "    <tr style=\"text-align: right;\">\n",
       "      <th></th>\n",
       "      <th>email</th>\n",
       "      <th>Percentage</th>\n",
       "    </tr>\n",
       "    <tr>\n",
       "      <th>request.ageRange</th>\n",
       "      <th></th>\n",
       "      <th></th>\n",
       "    </tr>\n",
       "  </thead>\n",
       "  <tbody>\n",
       "    <tr>\n",
       "      <th>20.0</th>\n",
       "      <td>142</td>\n",
       "      <td>6.454545</td>\n",
       "    </tr>\n",
       "    <tr>\n",
       "      <th>30.0</th>\n",
       "      <td>1113</td>\n",
       "      <td>50.590909</td>\n",
       "    </tr>\n",
       "    <tr>\n",
       "      <th>40.0</th>\n",
       "      <td>768</td>\n",
       "      <td>34.909091</td>\n",
       "    </tr>\n",
       "    <tr>\n",
       "      <th>60.0</th>\n",
       "      <td>128</td>\n",
       "      <td>5.818182</td>\n",
       "    </tr>\n",
       "    <tr>\n",
       "      <th>70.0</th>\n",
       "      <td>49</td>\n",
       "      <td>2.227273</td>\n",
       "    </tr>\n",
       "  </tbody>\n",
       "</table>\n",
       "</div>"
      ],
      "text/plain": [
       "                  email  Percentage\n",
       "request.ageRange                   \n",
       "20.0                142    6.454545\n",
       "30.0               1113   50.590909\n",
       "40.0                768   34.909091\n",
       "60.0                128    5.818182\n",
       "70.0                 49    2.227273"
      ]
     },
     "execution_count": 13,
     "metadata": {},
     "output_type": "execute_result"
    }
   ],
   "source": [
    "# Age range distribution\n",
    "email_age_unique = discover_data[['email', 'request.ageRange']].drop_duplicates(keep='last')\n",
    "age_range_breakdown = email_age_unique.groupby('request.ageRange').count() #apply(lambda x: 100 * x / x.sum())\n",
    "age_range_breakdown['Percentage'] =age_range_breakdown.apply(lambda x: 100 * x / x.sum())\n",
    "age_range_breakdown # age_range_breakdown['Percentage'] = age_range_breakdown['email'].map(lambda x: 100 * x / x.sum())"
   ]
  },
  {
   "cell_type": "code",
   "execution_count": 14,
   "metadata": {},
   "outputs": [
    {
     "data": {
      "text/plain": [
       "email         2200.0\n",
       "Percentage     100.0\n",
       "dtype: float64"
      ]
     },
     "execution_count": 14,
     "metadata": {},
     "output_type": "execute_result"
    }
   ],
   "source": [
    "age_range_breakdown.sum()"
   ]
  },
  {
   "cell_type": "code",
   "execution_count": 15,
   "metadata": {
    "scrolled": true
   },
   "outputs": [
    {
     "data": {
      "text/plain": [
       "373"
      ]
     },
     "execution_count": 15,
     "metadata": {},
     "output_type": "execute_result"
    }
   ],
   "source": [
    "# Calculates how many people DID NOT indicate ageRange\n",
    "\n",
    "len(email_age_unique[pd.isnull(email_age_unique['request.ageRange']) == True])"
   ]
  }
 ],
 "metadata": {
  "kernelspec": {
   "display_name": "Python 3",
   "language": "python",
   "name": "python3"
  },
  "language_info": {
   "codemirror_mode": {
    "name": "ipython",
    "version": 3
   },
   "file_extension": ".py",
   "mimetype": "text/x-python",
   "name": "python",
   "nbconvert_exporter": "python",
   "pygments_lexer": "ipython3",
   "version": "3.6.2"
  }
 },
 "nbformat": 4,
 "nbformat_minor": 2
}
